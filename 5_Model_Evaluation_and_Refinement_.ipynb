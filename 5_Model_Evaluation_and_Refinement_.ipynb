{
  "nbformat": 4,
  "nbformat_minor": 0,
  "metadata": {
    "colab": {
      "name": "5.Model_Evaluation_and_Refinement_.ipynb",
      "version": "0.3.2",
      "provenance": [],
      "collapsed_sections": [],
      "include_colab_link": true
    },
    "kernelspec": {
      "display_name": "Python 3",
      "language": "python",
      "name": "python3"
    }
  },
  "cells": [
    {
      "cell_type": "markdown",
      "metadata": {
        "id": "view-in-github",
        "colab_type": "text"
      },
      "source": [
        "[View in Colaboratory](https://colab.research.google.com/github/Shubham-kale/Data-Visualization-in-Python-Course-Assignments/blob/master/5_Model_Evaluation_and_Refinement_.ipynb)"
      ]
    },
    {
      "metadata": {
        "id": "5EOlXPjCvARe",
        "colab_type": "text"
      },
      "cell_type": "markdown",
      "source": [
        " <a href=\"https://www.bigdatauniversity.com\"><img src = \"https://ibm.box.com/shared/static/ugcqz6ohbvff804xp84y4kqnvvk3bq1g.png\" width = 300, align = \"center\"></a>\n",
        "\n",
        "<h1 align=center><font size = 5>Data Analysis with Python</font></h1>"
      ]
    },
    {
      "metadata": {
        "id": "qJ60QXwtvARj",
        "colab_type": "text"
      },
      "cell_type": "markdown",
      "source": [
        "# Module 5: Model Evaluation and Refinement \n",
        "\n",
        "We have built models and made predictions of vehicle prices. Now we will determine how accurate these predictions are. \n",
        "\n",
        "\n"
      ]
    },
    {
      "metadata": {
        "id": "hpoq5otevARp",
        "colab_type": "text"
      },
      "cell_type": "markdown",
      "source": [
        "# Table of content\n",
        "<p></p>\n",
        "<li><a href=\"#ref1\">Model Evaluation </a></li>\n",
        "<li><a href=\"#ref2\">Over-fitting, Under-fitting and Model Selection </a></li>\n",
        "<li><a href=\"#ref3\">Ridge Regression </a></li>\n",
        "<li><a href=\"#ref4\">Grid Search</a></li>\n",
        "<p></p>"
      ]
    },
    {
      "metadata": {
        "id": "Fz1ktYqIvARs",
        "colab_type": "code",
        "colab": {
          "base_uri": "https://localhost:8080/",
          "height": 37
        },
        "outputId": "6e17d18a-76b7-43fc-9dae-268cea64a971"
      },
      "cell_type": "code",
      "source": [
        "import pandas as pd\n",
        "import numpy as np\n",
        "\n",
        "# Import clean data \n",
        "path = path='https://ibm.box.com/shared/static/q6iiqb1pd7wo8r3q28jvgsrprzezjqk3.csv'\n",
        "df = pd.read_csv(path)"
      ],
      "execution_count": 1,
      "outputs": []
    },
    {
      "metadata": {
        "id": "4stMNws6vAR4",
        "colab_type": "text"
      },
      "cell_type": "markdown",
      "source": [
        " First lets only use numeric data "
      ]
    },
    {
      "metadata": {
        "id": "xQfcv5fAvAR8",
        "colab_type": "code",
        "colab": {
          "base_uri": "https://localhost:8080/",
          "height": 37
        },
        "outputId": "3567b854-57b4-45f7-820a-5bc83e8dc1ec"
      },
      "cell_type": "code",
      "source": [
        "df=df._get_numeric_data()"
      ],
      "execution_count": 2,
      "outputs": []
    },
    {
      "metadata": {
        "id": "oNEdoaTSW4ZR",
        "colab_type": "code",
        "colab": {
          "base_uri": "https://localhost:8080/",
          "height": 235
        },
        "outputId": "31eb4d2a-e719-42f4-c580-22668a63de35"
      },
      "cell_type": "code",
      "source": [
        "df.head()"
      ],
      "execution_count": 3,
      "outputs": [
        {
          "output_type": "execute_result",
          "data": {
            "text/html": [
              "<div>\n",
              "<style scoped>\n",
              "    .dataframe tbody tr th:only-of-type {\n",
              "        vertical-align: middle;\n",
              "    }\n",
              "\n",
              "    .dataframe tbody tr th {\n",
              "        vertical-align: top;\n",
              "    }\n",
              "\n",
              "    .dataframe thead th {\n",
              "        text-align: right;\n",
              "    }\n",
              "</style>\n",
              "<table border=\"1\" class=\"dataframe\">\n",
              "  <thead>\n",
              "    <tr style=\"text-align: right;\">\n",
              "      <th></th>\n",
              "      <th>Unnamed: 0</th>\n",
              "      <th>symboling</th>\n",
              "      <th>normalized-losses</th>\n",
              "      <th>wheel-base</th>\n",
              "      <th>length</th>\n",
              "      <th>width</th>\n",
              "      <th>height</th>\n",
              "      <th>curb-weight</th>\n",
              "      <th>engine-size</th>\n",
              "      <th>bore</th>\n",
              "      <th>stroke</th>\n",
              "      <th>compression-ratio</th>\n",
              "      <th>horsepower</th>\n",
              "      <th>peak-rpm</th>\n",
              "      <th>city-mpg</th>\n",
              "      <th>highway-mpg</th>\n",
              "      <th>price</th>\n",
              "      <th>city-L/100km</th>\n",
              "      <th>diesel</th>\n",
              "      <th>gas</th>\n",
              "    </tr>\n",
              "  </thead>\n",
              "  <tbody>\n",
              "    <tr>\n",
              "      <th>0</th>\n",
              "      <td>0</td>\n",
              "      <td>3</td>\n",
              "      <td>122</td>\n",
              "      <td>88.6</td>\n",
              "      <td>0.811148</td>\n",
              "      <td>0.890278</td>\n",
              "      <td>48.8</td>\n",
              "      <td>2548</td>\n",
              "      <td>130</td>\n",
              "      <td>3.47</td>\n",
              "      <td>2.68</td>\n",
              "      <td>9.0</td>\n",
              "      <td>111.0</td>\n",
              "      <td>5000.0</td>\n",
              "      <td>21</td>\n",
              "      <td>27</td>\n",
              "      <td>13495.0</td>\n",
              "      <td>11.190476</td>\n",
              "      <td>0</td>\n",
              "      <td>1</td>\n",
              "    </tr>\n",
              "    <tr>\n",
              "      <th>1</th>\n",
              "      <td>1</td>\n",
              "      <td>3</td>\n",
              "      <td>122</td>\n",
              "      <td>88.6</td>\n",
              "      <td>0.811148</td>\n",
              "      <td>0.890278</td>\n",
              "      <td>48.8</td>\n",
              "      <td>2548</td>\n",
              "      <td>130</td>\n",
              "      <td>3.47</td>\n",
              "      <td>2.68</td>\n",
              "      <td>9.0</td>\n",
              "      <td>111.0</td>\n",
              "      <td>5000.0</td>\n",
              "      <td>21</td>\n",
              "      <td>27</td>\n",
              "      <td>16500.0</td>\n",
              "      <td>11.190476</td>\n",
              "      <td>0</td>\n",
              "      <td>1</td>\n",
              "    </tr>\n",
              "    <tr>\n",
              "      <th>2</th>\n",
              "      <td>2</td>\n",
              "      <td>1</td>\n",
              "      <td>122</td>\n",
              "      <td>94.5</td>\n",
              "      <td>0.822681</td>\n",
              "      <td>0.909722</td>\n",
              "      <td>52.4</td>\n",
              "      <td>2823</td>\n",
              "      <td>152</td>\n",
              "      <td>2.68</td>\n",
              "      <td>3.47</td>\n",
              "      <td>9.0</td>\n",
              "      <td>154.0</td>\n",
              "      <td>5000.0</td>\n",
              "      <td>19</td>\n",
              "      <td>26</td>\n",
              "      <td>16500.0</td>\n",
              "      <td>12.368421</td>\n",
              "      <td>0</td>\n",
              "      <td>1</td>\n",
              "    </tr>\n",
              "    <tr>\n",
              "      <th>3</th>\n",
              "      <td>3</td>\n",
              "      <td>2</td>\n",
              "      <td>164</td>\n",
              "      <td>99.8</td>\n",
              "      <td>0.848630</td>\n",
              "      <td>0.919444</td>\n",
              "      <td>54.3</td>\n",
              "      <td>2337</td>\n",
              "      <td>109</td>\n",
              "      <td>3.19</td>\n",
              "      <td>3.40</td>\n",
              "      <td>10.0</td>\n",
              "      <td>102.0</td>\n",
              "      <td>5500.0</td>\n",
              "      <td>24</td>\n",
              "      <td>30</td>\n",
              "      <td>13950.0</td>\n",
              "      <td>9.791667</td>\n",
              "      <td>0</td>\n",
              "      <td>1</td>\n",
              "    </tr>\n",
              "    <tr>\n",
              "      <th>4</th>\n",
              "      <td>4</td>\n",
              "      <td>2</td>\n",
              "      <td>164</td>\n",
              "      <td>99.4</td>\n",
              "      <td>0.848630</td>\n",
              "      <td>0.922222</td>\n",
              "      <td>54.3</td>\n",
              "      <td>2824</td>\n",
              "      <td>136</td>\n",
              "      <td>3.19</td>\n",
              "      <td>3.40</td>\n",
              "      <td>8.0</td>\n",
              "      <td>115.0</td>\n",
              "      <td>5500.0</td>\n",
              "      <td>18</td>\n",
              "      <td>22</td>\n",
              "      <td>17450.0</td>\n",
              "      <td>13.055556</td>\n",
              "      <td>0</td>\n",
              "      <td>1</td>\n",
              "    </tr>\n",
              "  </tbody>\n",
              "</table>\n",
              "</div>"
            ],
            "text/plain": [
              "   Unnamed: 0  symboling  normalized-losses  wheel-base    length     width  \\\n",
              "0           0          3                122        88.6  0.811148  0.890278   \n",
              "1           1          3                122        88.6  0.811148  0.890278   \n",
              "2           2          1                122        94.5  0.822681  0.909722   \n",
              "3           3          2                164        99.8  0.848630  0.919444   \n",
              "4           4          2                164        99.4  0.848630  0.922222   \n",
              "\n",
              "   height  curb-weight  engine-size  bore  stroke  compression-ratio  \\\n",
              "0    48.8         2548          130  3.47    2.68                9.0   \n",
              "1    48.8         2548          130  3.47    2.68                9.0   \n",
              "2    52.4         2823          152  2.68    3.47                9.0   \n",
              "3    54.3         2337          109  3.19    3.40               10.0   \n",
              "4    54.3         2824          136  3.19    3.40                8.0   \n",
              "\n",
              "   horsepower  peak-rpm  city-mpg  highway-mpg    price  city-L/100km  diesel  \\\n",
              "0       111.0    5000.0        21           27  13495.0     11.190476       0   \n",
              "1       111.0    5000.0        21           27  16500.0     11.190476       0   \n",
              "2       154.0    5000.0        19           26  16500.0     12.368421       0   \n",
              "3       102.0    5500.0        24           30  13950.0      9.791667       0   \n",
              "4       115.0    5500.0        18           22  17450.0     13.055556       0   \n",
              "\n",
              "   gas  \n",
              "0    1  \n",
              "1    1  \n",
              "2    1  \n",
              "3    1  \n",
              "4    1  "
            ]
          },
          "metadata": {
            "tags": []
          },
          "execution_count": 3
        }
      ]
    },
    {
      "metadata": {
        "id": "0GBg9WawvASG",
        "colab_type": "text"
      },
      "cell_type": "markdown",
      "source": [
        " Libraries for plotting "
      ]
    },
    {
      "metadata": {
        "id": "BaY0n-PlXbaK",
        "colab_type": "code",
        "colab": {
          "base_uri": "https://localhost:8080/",
          "height": 783
        },
        "outputId": "3c33456e-d30e-4451-9415-d5c6c31dfd68"
      },
      "cell_type": "code",
      "source": [
        "!pip install ipywidgets"
      ],
      "execution_count": 5,
      "outputs": [
        {
          "output_type": "stream",
          "text": [
            "Collecting ipywidgets\n",
            "\u001b[?25l  Downloading https://files.pythonhosted.org/packages/7d/24/fabc09ad81c6071159a4d12d5bfbddcbea69bd9e3b16c3250ef300c0285f/ipywidgets-7.2.1-py2.py3-none-any.whl (106kB)\n",
            "\u001b[K    100% |████████████████████████████████| 112kB 2.5MB/s \n",
            "\u001b[?25hRequirement already satisfied: ipython>=4.0.0; python_version >= \"3.3\" in /usr/local/lib/python3.6/dist-packages (from ipywidgets) (5.5.0)\n",
            "Requirement already satisfied: ipykernel>=4.5.1 in /usr/local/lib/python3.6/dist-packages (from ipywidgets) (4.6.1)\n",
            "Requirement already satisfied: nbformat>=4.2.0 in /usr/local/lib/python3.6/dist-packages (from ipywidgets) (4.4.0)\n",
            "Collecting widgetsnbextension~=3.2.0 (from ipywidgets)\n",
            "\u001b[?25l  Downloading https://files.pythonhosted.org/packages/ff/fa/64acc09fc845a6b2dc0724d6f3f81e829b778ed5e9a7559567b4f19a3f4b/widgetsnbextension-3.2.1-py2.py3-none-any.whl (2.2MB)\n",
            "\u001b[K    100% |████████████████████████████████| 2.2MB 5.4MB/s \n",
            "\u001b[?25hRequirement already satisfied: traitlets>=4.3.1 in /usr/local/lib/python3.6/dist-packages (from ipywidgets) (4.3.2)\n",
            "Requirement already satisfied: decorator in /usr/local/lib/python3.6/dist-packages (from ipython>=4.0.0; python_version >= \"3.3\"->ipywidgets) (4.3.0)\n",
            "Requirement already satisfied: pickleshare in /usr/local/lib/python3.6/dist-packages (from ipython>=4.0.0; python_version >= \"3.3\"->ipywidgets) (0.7.4)\n",
            "Requirement already satisfied: pygments in /usr/local/lib/python3.6/dist-packages (from ipython>=4.0.0; python_version >= \"3.3\"->ipywidgets) (2.1.3)\n",
            "Requirement already satisfied: pexpect; sys_platform != \"win32\" in /usr/local/lib/python3.6/dist-packages (from ipython>=4.0.0; python_version >= \"3.3\"->ipywidgets) (4.6.0)\n",
            "Requirement already satisfied: setuptools>=18.5 in /usr/local/lib/python3.6/dist-packages (from ipython>=4.0.0; python_version >= \"3.3\"->ipywidgets) (39.1.0)\n",
            "Requirement already satisfied: prompt-toolkit<2.0.0,>=1.0.4 in /usr/local/lib/python3.6/dist-packages (from ipython>=4.0.0; python_version >= \"3.3\"->ipywidgets) (1.0.15)\n",
            "Requirement already satisfied: simplegeneric>0.8 in /usr/local/lib/python3.6/dist-packages (from ipython>=4.0.0; python_version >= \"3.3\"->ipywidgets) (0.8.1)\n",
            "Requirement already satisfied: jupyter-client in /usr/local/lib/python3.6/dist-packages (from ipykernel>=4.5.1->ipywidgets) (5.2.3)\n",
            "Requirement already satisfied: tornado>=4.0 in /usr/local/lib/python3.6/dist-packages (from ipykernel>=4.5.1->ipywidgets) (4.5.3)\n",
            "Requirement already satisfied: jupyter-core in /usr/local/lib/python3.6/dist-packages (from nbformat>=4.2.0->ipywidgets) (4.4.0)\n",
            "Requirement already satisfied: ipython-genutils in /usr/local/lib/python3.6/dist-packages (from nbformat>=4.2.0->ipywidgets) (0.2.0)\n",
            "Requirement already satisfied: jsonschema!=2.5.0,>=2.4 in /usr/local/lib/python3.6/dist-packages (from nbformat>=4.2.0->ipywidgets) (2.6.0)\n",
            "Requirement already satisfied: notebook>=4.4.1 in /usr/local/lib/python3.6/dist-packages (from widgetsnbextension~=3.2.0->ipywidgets) (5.2.2)\n",
            "Requirement already satisfied: six in /usr/local/lib/python3.6/dist-packages (from traitlets>=4.3.1->ipywidgets) (1.11.0)\n",
            "Requirement already satisfied: ptyprocess>=0.5 in /usr/local/lib/python3.6/dist-packages (from pexpect; sys_platform != \"win32\"->ipython>=4.0.0; python_version >= \"3.3\"->ipywidgets) (0.6.0)\n",
            "Requirement already satisfied: wcwidth in /usr/local/lib/python3.6/dist-packages (from prompt-toolkit<2.0.0,>=1.0.4->ipython>=4.0.0; python_version >= \"3.3\"->ipywidgets) (0.1.7)\n",
            "Requirement already satisfied: pyzmq>=13 in /usr/local/lib/python3.6/dist-packages (from jupyter-client->ipykernel>=4.5.1->ipywidgets) (16.0.4)\n",
            "Requirement already satisfied: python-dateutil>=2.1 in /usr/local/lib/python3.6/dist-packages (from jupyter-client->ipykernel>=4.5.1->ipywidgets) (2.5.3)\n",
            "Requirement already satisfied: jinja2 in /usr/local/lib/python3.6/dist-packages (from notebook>=4.4.1->widgetsnbextension~=3.2.0->ipywidgets) (2.10)\n",
            "Requirement already satisfied: terminado>=0.3.3; sys_platform != \"win32\" in /usr/local/lib/python3.6/dist-packages (from notebook>=4.4.1->widgetsnbextension~=3.2.0->ipywidgets) (0.8.1)\n",
            "Requirement already satisfied: nbconvert in /usr/local/lib/python3.6/dist-packages (from notebook>=4.4.1->widgetsnbextension~=3.2.0->ipywidgets) (5.3.1)\n",
            "Requirement already satisfied: MarkupSafe>=0.23 in /usr/local/lib/python3.6/dist-packages (from jinja2->notebook>=4.4.1->widgetsnbextension~=3.2.0->ipywidgets) (1.0)\n",
            "Requirement already satisfied: testpath in /usr/local/lib/python3.6/dist-packages (from nbconvert->notebook>=4.4.1->widgetsnbextension~=3.2.0->ipywidgets) (0.3.1)\n",
            "Requirement already satisfied: pandocfilters>=1.4.1 in /usr/local/lib/python3.6/dist-packages (from nbconvert->notebook>=4.4.1->widgetsnbextension~=3.2.0->ipywidgets) (1.4.2)\n",
            "Requirement already satisfied: mistune>=0.7.4 in /usr/local/lib/python3.6/dist-packages (from nbconvert->notebook>=4.4.1->widgetsnbextension~=3.2.0->ipywidgets) (0.8.3)\n",
            "Requirement already satisfied: entrypoints>=0.2.2 in /usr/local/lib/python3.6/dist-packages (from nbconvert->notebook>=4.4.1->widgetsnbextension~=3.2.0->ipywidgets) (0.2.3)\n",
            "Requirement already satisfied: bleach in /usr/local/lib/python3.6/dist-packages (from nbconvert->notebook>=4.4.1->widgetsnbextension~=3.2.0->ipywidgets) (2.1.3)\n",
            "Requirement already satisfied: html5lib!=1.0b1,!=1.0b2,!=1.0b3,!=1.0b4,!=1.0b5,!=1.0b6,!=1.0b7,!=1.0b8,>=0.99999999pre in /usr/local/lib/python3.6/dist-packages (from bleach->nbconvert->notebook>=4.4.1->widgetsnbextension~=3.2.0->ipywidgets) (1.0.1)\n",
            "Requirement already satisfied: webencodings in /usr/local/lib/python3.6/dist-packages (from html5lib!=1.0b1,!=1.0b2,!=1.0b3,!=1.0b4,!=1.0b5,!=1.0b6,!=1.0b7,!=1.0b8,>=0.99999999pre->bleach->nbconvert->notebook>=4.4.1->widgetsnbextension~=3.2.0->ipywidgets) (0.5.1)\n",
            "Installing collected packages: widgetsnbextension, ipywidgets\n",
            "Successfully installed ipywidgets-7.2.1 widgetsnbextension-3.2.1\n"
          ],
          "name": "stdout"
        }
      ]
    },
    {
      "metadata": {
        "id": "ShGvTYyYvASJ",
        "colab_type": "code",
        "colab": {
          "base_uri": "https://localhost:8080/",
          "height": 35
        },
        "outputId": "ccf3d811-4a9e-4330-87b9-6d7d45f73072"
      },
      "cell_type": "code",
      "source": [
        "from IPython.display import display\n",
        "from IPython.html import widgets \n",
        "from IPython.display import display\n",
        "from ipywidgets import interact, interactive, fixed, interact_manual\n",
        "print(\"done\")"
      ],
      "execution_count": 6,
      "outputs": [
        {
          "output_type": "stream",
          "text": [
            "done\n"
          ],
          "name": "stdout"
        }
      ]
    },
    {
      "metadata": {
        "id": "5Ee1t9e5vASc",
        "colab_type": "text"
      },
      "cell_type": "markdown",
      "source": [
        "## Functions for plotting "
      ]
    },
    {
      "metadata": {
        "id": "W3cO6lgmvASf",
        "colab_type": "code",
        "colab": {
          "base_uri": "https://localhost:8080/",
          "height": 37
        },
        "outputId": "7879500e-7dab-46e5-8808-47a7fafe044a"
      },
      "cell_type": "code",
      "source": [
        "def DistributionPlot(RedFunction,BlueFunction,RedName,BlueName,Title ):\n",
        "    width = 12\n",
        "    height = 10\n",
        "    plt.figure(figsize=(width, height))\n",
        "\n",
        "    ax1 = sns.distplot(RedFunction, hist=False, color=\"r\", label=RedName)\n",
        "    ax2 = sns.distplot(BlueFunction, hist=False, color=\"b\", label=BlueName, ax=ax1)\n",
        "\n",
        "    plt.title(Title)\n",
        "    plt.xlabel('Price (in dollars)')\n",
        "    plt.ylabel('Proportion of Cars')\n",
        "\n",
        "    plt.show()\n",
        "    plt.close()\n",
        "    "
      ],
      "execution_count": 7,
      "outputs": []
    },
    {
      "metadata": {
        "id": "NgF9TRA4vASn",
        "colab_type": "code",
        "colab": {
          "base_uri": "https://localhost:8080/",
          "height": 37
        },
        "outputId": "7a663c3c-fc5b-44f7-d525-b05f8244b27e"
      },
      "cell_type": "code",
      "source": [
        "def PollyPlot(xtrain,xtest,y_train,y_test,lr,poly_transform):\n",
        "    width = 12\n",
        "    height = 10\n",
        "    plt.figure(figsize=(width, height))\n",
        "    \n",
        "    \n",
        "    #training data \n",
        "    #testing data \n",
        "    # lr:  linear regression object \n",
        "    #poly_transform:  polynomial transformation object \n",
        " \n",
        "    xmax=max([xtrain.values.max(),xtest.values.max()])\n",
        "\n",
        "    xmin=min([xtrain.values.min(),xtest.values.min()])\n",
        "\n",
        "    x=np.arange(xmin,xmax,0.1)\n",
        "\n",
        "\n",
        "    plt.plot(xtrain,y_train,'ro',label='Training Data')\n",
        "    plt.plot(xtest,y_test,'go',label='Test Data')\n",
        "    plt.plot(x,lr.predict(poly_transform.fit_transform(x.reshape(-1,1))),label='Predicted Function')\n",
        "    plt.ylim([-10000,60000])\n",
        "    plt.ylabel('Price')\n",
        "    plt.legend()\n"
      ],
      "execution_count": 8,
      "outputs": []
    },
    {
      "metadata": {
        "id": "7fSBLKBOvASw",
        "colab_type": "text"
      },
      "cell_type": "markdown",
      "source": [
        "<a id=\"ref1\"></a>\n",
        "\n",
        "# Part 1: Training and Testing\n",
        "\n",
        "An important step in testing your model is to split your data into training and testing data. We will place the target data **price** in a separate dataframe **y**:"
      ]
    },
    {
      "metadata": {
        "id": "qvhcZPkVvASz",
        "colab_type": "code",
        "colab": {
          "base_uri": "https://localhost:8080/",
          "height": 37
        },
        "outputId": "2bacd73e-1c79-47ef-97d7-026e8c3f2062"
      },
      "cell_type": "code",
      "source": [
        "y_data=df['price']"
      ],
      "execution_count": 9,
      "outputs": []
    },
    {
      "metadata": {
        "id": "JmJmdLqHvAS-",
        "colab_type": "text"
      },
      "cell_type": "markdown",
      "source": [
        "drop price data in x data"
      ]
    },
    {
      "metadata": {
        "id": "-kpzunbDvATE",
        "colab_type": "code",
        "colab": {
          "base_uri": "https://localhost:8080/",
          "height": 235
        },
        "outputId": "730aaf9d-97f6-4aa1-af8b-7b13bbd90efa"
      },
      "cell_type": "code",
      "source": [
        "x_data=df.drop('price',axis=1)\n",
        "x_data.head()"
      ],
      "execution_count": 10,
      "outputs": [
        {
          "output_type": "execute_result",
          "data": {
            "text/html": [
              "<div>\n",
              "<style scoped>\n",
              "    .dataframe tbody tr th:only-of-type {\n",
              "        vertical-align: middle;\n",
              "    }\n",
              "\n",
              "    .dataframe tbody tr th {\n",
              "        vertical-align: top;\n",
              "    }\n",
              "\n",
              "    .dataframe thead th {\n",
              "        text-align: right;\n",
              "    }\n",
              "</style>\n",
              "<table border=\"1\" class=\"dataframe\">\n",
              "  <thead>\n",
              "    <tr style=\"text-align: right;\">\n",
              "      <th></th>\n",
              "      <th>Unnamed: 0</th>\n",
              "      <th>symboling</th>\n",
              "      <th>normalized-losses</th>\n",
              "      <th>wheel-base</th>\n",
              "      <th>length</th>\n",
              "      <th>width</th>\n",
              "      <th>height</th>\n",
              "      <th>curb-weight</th>\n",
              "      <th>engine-size</th>\n",
              "      <th>bore</th>\n",
              "      <th>stroke</th>\n",
              "      <th>compression-ratio</th>\n",
              "      <th>horsepower</th>\n",
              "      <th>peak-rpm</th>\n",
              "      <th>city-mpg</th>\n",
              "      <th>highway-mpg</th>\n",
              "      <th>city-L/100km</th>\n",
              "      <th>diesel</th>\n",
              "      <th>gas</th>\n",
              "    </tr>\n",
              "  </thead>\n",
              "  <tbody>\n",
              "    <tr>\n",
              "      <th>0</th>\n",
              "      <td>0</td>\n",
              "      <td>3</td>\n",
              "      <td>122</td>\n",
              "      <td>88.6</td>\n",
              "      <td>0.811148</td>\n",
              "      <td>0.890278</td>\n",
              "      <td>48.8</td>\n",
              "      <td>2548</td>\n",
              "      <td>130</td>\n",
              "      <td>3.47</td>\n",
              "      <td>2.68</td>\n",
              "      <td>9.0</td>\n",
              "      <td>111.0</td>\n",
              "      <td>5000.0</td>\n",
              "      <td>21</td>\n",
              "      <td>27</td>\n",
              "      <td>11.190476</td>\n",
              "      <td>0</td>\n",
              "      <td>1</td>\n",
              "    </tr>\n",
              "    <tr>\n",
              "      <th>1</th>\n",
              "      <td>1</td>\n",
              "      <td>3</td>\n",
              "      <td>122</td>\n",
              "      <td>88.6</td>\n",
              "      <td>0.811148</td>\n",
              "      <td>0.890278</td>\n",
              "      <td>48.8</td>\n",
              "      <td>2548</td>\n",
              "      <td>130</td>\n",
              "      <td>3.47</td>\n",
              "      <td>2.68</td>\n",
              "      <td>9.0</td>\n",
              "      <td>111.0</td>\n",
              "      <td>5000.0</td>\n",
              "      <td>21</td>\n",
              "      <td>27</td>\n",
              "      <td>11.190476</td>\n",
              "      <td>0</td>\n",
              "      <td>1</td>\n",
              "    </tr>\n",
              "    <tr>\n",
              "      <th>2</th>\n",
              "      <td>2</td>\n",
              "      <td>1</td>\n",
              "      <td>122</td>\n",
              "      <td>94.5</td>\n",
              "      <td>0.822681</td>\n",
              "      <td>0.909722</td>\n",
              "      <td>52.4</td>\n",
              "      <td>2823</td>\n",
              "      <td>152</td>\n",
              "      <td>2.68</td>\n",
              "      <td>3.47</td>\n",
              "      <td>9.0</td>\n",
              "      <td>154.0</td>\n",
              "      <td>5000.0</td>\n",
              "      <td>19</td>\n",
              "      <td>26</td>\n",
              "      <td>12.368421</td>\n",
              "      <td>0</td>\n",
              "      <td>1</td>\n",
              "    </tr>\n",
              "    <tr>\n",
              "      <th>3</th>\n",
              "      <td>3</td>\n",
              "      <td>2</td>\n",
              "      <td>164</td>\n",
              "      <td>99.8</td>\n",
              "      <td>0.848630</td>\n",
              "      <td>0.919444</td>\n",
              "      <td>54.3</td>\n",
              "      <td>2337</td>\n",
              "      <td>109</td>\n",
              "      <td>3.19</td>\n",
              "      <td>3.40</td>\n",
              "      <td>10.0</td>\n",
              "      <td>102.0</td>\n",
              "      <td>5500.0</td>\n",
              "      <td>24</td>\n",
              "      <td>30</td>\n",
              "      <td>9.791667</td>\n",
              "      <td>0</td>\n",
              "      <td>1</td>\n",
              "    </tr>\n",
              "    <tr>\n",
              "      <th>4</th>\n",
              "      <td>4</td>\n",
              "      <td>2</td>\n",
              "      <td>164</td>\n",
              "      <td>99.4</td>\n",
              "      <td>0.848630</td>\n",
              "      <td>0.922222</td>\n",
              "      <td>54.3</td>\n",
              "      <td>2824</td>\n",
              "      <td>136</td>\n",
              "      <td>3.19</td>\n",
              "      <td>3.40</td>\n",
              "      <td>8.0</td>\n",
              "      <td>115.0</td>\n",
              "      <td>5500.0</td>\n",
              "      <td>18</td>\n",
              "      <td>22</td>\n",
              "      <td>13.055556</td>\n",
              "      <td>0</td>\n",
              "      <td>1</td>\n",
              "    </tr>\n",
              "  </tbody>\n",
              "</table>\n",
              "</div>"
            ],
            "text/plain": [
              "   Unnamed: 0  symboling  normalized-losses  wheel-base    length     width  \\\n",
              "0           0          3                122        88.6  0.811148  0.890278   \n",
              "1           1          3                122        88.6  0.811148  0.890278   \n",
              "2           2          1                122        94.5  0.822681  0.909722   \n",
              "3           3          2                164        99.8  0.848630  0.919444   \n",
              "4           4          2                164        99.4  0.848630  0.922222   \n",
              "\n",
              "   height  curb-weight  engine-size  bore  stroke  compression-ratio  \\\n",
              "0    48.8         2548          130  3.47    2.68                9.0   \n",
              "1    48.8         2548          130  3.47    2.68                9.0   \n",
              "2    52.4         2823          152  2.68    3.47                9.0   \n",
              "3    54.3         2337          109  3.19    3.40               10.0   \n",
              "4    54.3         2824          136  3.19    3.40                8.0   \n",
              "\n",
              "   horsepower  peak-rpm  city-mpg  highway-mpg  city-L/100km  diesel  gas  \n",
              "0       111.0    5000.0        21           27     11.190476       0    1  \n",
              "1       111.0    5000.0        21           27     11.190476       0    1  \n",
              "2       154.0    5000.0        19           26     12.368421       0    1  \n",
              "3       102.0    5500.0        24           30      9.791667       0    1  \n",
              "4       115.0    5500.0        18           22     13.055556       0    1  "
            ]
          },
          "metadata": {
            "tags": []
          },
          "execution_count": 10
        }
      ]
    },
    {
      "metadata": {
        "id": "OTFfzca-vATN",
        "colab_type": "text"
      },
      "cell_type": "markdown",
      "source": [
        " now we randomly split our data into training and testing data  using the function **train_test_split** "
      ]
    },
    {
      "metadata": {
        "id": "1tK-j0gfvATQ",
        "colab_type": "code",
        "colab": {
          "base_uri": "https://localhost:8080/",
          "height": 54
        },
        "outputId": "f3affe81-4a96-4971-8d48-d109192b6d19"
      },
      "cell_type": "code",
      "source": [
        "from sklearn.model_selection import train_test_split\n",
        "\n",
        "\n",
        "x_train, x_test, y_train, y_test = train_test_split(x_data, y_data, test_size=0.15, random_state=1)\n",
        "\n",
        "\n",
        "print(\"number of test samples :\", x_test.shape[0])\n",
        "print(\"number of training samples:\",x_train.shape[0])\n"
      ],
      "execution_count": 11,
      "outputs": [
        {
          "output_type": "stream",
          "text": [
            "number of test samples : 31\n",
            "number of training samples: 170\n"
          ],
          "name": "stdout"
        }
      ]
    },
    {
      "metadata": {
        "id": "d6oGa71KvATX",
        "colab_type": "text"
      },
      "cell_type": "markdown",
      "source": [
        "The **test_size** parameter sets the proportion of data that is split into the testing set. In the above, the testing set is set to 10% of the total dataset. "
      ]
    },
    {
      "metadata": {
        "id": "OdECj8C7vATX",
        "colab_type": "text"
      },
      "cell_type": "markdown",
      "source": [
        " <div class=\"alert alert-danger alertdanger\" style=\"margin-top: 20px\">\n",
        "<h1> Question  #1): </h1>\n",
        "\n",
        "<b> Use the function \"train_test_split\" to split up the data set such that 40% of the data samples will be utilized for testing, set the parameter \"random_state\" equal to zero. The output of the function should be the following:  \"x_train_1\" , \"x_test_1\", \"y_train_1\" and  \"y_test_1\".</b>\n",
        "</div>"
      ]
    },
    {
      "metadata": {
        "id": "h0Bm8W7zvATo",
        "colab_type": "code",
        "colab": {
          "base_uri": "https://localhost:8080/",
          "height": 37
        },
        "outputId": "80dbd7f1-12b9-415f-bd96-bb290e408569"
      },
      "cell_type": "code",
      "source": [
        "x_train1, x_test1, y_train1, y_test1 = train_test_split(x_data, y_data, test_size=0.4, random_state=0) "
      ],
      "execution_count": 12,
      "outputs": []
    },
    {
      "metadata": {
        "id": "hp1FgM4ovATw",
        "colab_type": "text"
      },
      "cell_type": "markdown",
      "source": [
        " Let's import **LinearRegression** from the module **linear_model**"
      ]
    },
    {
      "metadata": {
        "id": "KJnjmk9NvATy",
        "colab_type": "code",
        "colab": {
          "base_uri": "https://localhost:8080/",
          "height": 37
        },
        "outputId": "31979ef7-a4a3-404a-b30e-0032cf8a4bc0"
      },
      "cell_type": "code",
      "source": [
        "from sklearn.linear_model import LinearRegression"
      ],
      "execution_count": 13,
      "outputs": []
    },
    {
      "metadata": {
        "id": "4oEba-EDvAT7",
        "colab_type": "text"
      },
      "cell_type": "markdown",
      "source": [
        " We create a Linear Regression object:"
      ]
    },
    {
      "metadata": {
        "id": "eeQys8M1vAT_",
        "colab_type": "code",
        "colab": {
          "base_uri": "https://localhost:8080/",
          "height": 37
        },
        "outputId": "dd1c40fb-3c4e-4c71-9016-ff0b0e8b2905"
      },
      "cell_type": "code",
      "source": [
        "lre=LinearRegression()"
      ],
      "execution_count": 14,
      "outputs": []
    },
    {
      "metadata": {
        "id": "lJ1kuqoKvAUG",
        "colab_type": "text"
      },
      "cell_type": "markdown",
      "source": [
        "we fit the model using the feature horsepower "
      ]
    },
    {
      "metadata": {
        "id": "cVxpd0o0vAUG",
        "colab_type": "code",
        "colab": {
          "base_uri": "https://localhost:8080/",
          "height": 35
        },
        "outputId": "675385f0-0b0d-4e5f-8539-d8776fe56f25"
      },
      "cell_type": "code",
      "source": [
        "lre.fit(x_train[['horsepower']],y_train)"
      ],
      "execution_count": 15,
      "outputs": [
        {
          "output_type": "execute_result",
          "data": {
            "text/plain": [
              "LinearRegression(copy_X=True, fit_intercept=True, n_jobs=1, normalize=False)"
            ]
          },
          "metadata": {
            "tags": []
          },
          "execution_count": 15
        }
      ]
    },
    {
      "metadata": {
        "id": "DwHg-LlyvAUL",
        "colab_type": "text"
      },
      "cell_type": "markdown",
      "source": [
        "Let's Calculate the R^2 on the test data:"
      ]
    },
    {
      "metadata": {
        "id": "-TQm3mIVvAUM",
        "colab_type": "code",
        "colab": {
          "base_uri": "https://localhost:8080/",
          "height": 35
        },
        "outputId": "2803c3d5-31a0-43a3-e319-8f2570af4e3b"
      },
      "cell_type": "code",
      "source": [
        "lre.score(x_test[['horsepower']],y_test)"
      ],
      "execution_count": 16,
      "outputs": [
        {
          "output_type": "execute_result",
          "data": {
            "text/plain": [
              "0.707688374146705"
            ]
          },
          "metadata": {
            "tags": []
          },
          "execution_count": 16
        }
      ]
    },
    {
      "metadata": {
        "id": "N_duDodbvAUS",
        "colab_type": "text"
      },
      "cell_type": "markdown",
      "source": [
        "we can see the R^2 is much smaller using the test data."
      ]
    },
    {
      "metadata": {
        "id": "GRibMbswvAUU",
        "colab_type": "code",
        "colab": {
          "base_uri": "https://localhost:8080/",
          "height": 35
        },
        "outputId": "f625a651-5179-473d-c38d-eae1a208cfae"
      },
      "cell_type": "code",
      "source": [
        "lre.score(x_train[['horsepower']],y_train)"
      ],
      "execution_count": 17,
      "outputs": [
        {
          "output_type": "execute_result",
          "data": {
            "text/plain": [
              "0.6449517437659684"
            ]
          },
          "metadata": {
            "tags": []
          },
          "execution_count": 17
        }
      ]
    },
    {
      "metadata": {
        "id": "Kg-4cIKovAUb",
        "colab_type": "text"
      },
      "cell_type": "markdown",
      "source": [
        " <div class=\"alert alert-danger alertdanger\" style=\"margin-top: 20px\">\n",
        "<h1> Question  #2): </h1>\n",
        "<b> \n",
        "Find the R^2  on the test data using 90% of the data for training data\n",
        "</b>\n",
        "</div>"
      ]
    },
    {
      "metadata": {
        "id": "i8MDgQl-vAUc",
        "colab_type": "code",
        "colab": {
          "base_uri": "https://localhost:8080/",
          "height": 35
        },
        "outputId": "382aeb9e-c620-4ec0-fd58-21dde2c195cd"
      },
      "cell_type": "code",
      "source": [
        "x_train1, x_test1, y_train1, y_test1 = train_test_split(x_data, y_data, test_size=0.9, random_state=0)\n",
        "lre.fit(x_train1[['horsepower']],y_train1)\n",
        "lre.score(x_test1[['horsepower']],y_test1)\n"
      ],
      "execution_count": 18,
      "outputs": [
        {
          "output_type": "execute_result",
          "data": {
            "text/plain": [
              "0.6559543699796797"
            ]
          },
          "metadata": {
            "tags": []
          },
          "execution_count": 18
        }
      ]
    },
    {
      "metadata": {
        "id": "i7R1_EL8vAUi",
        "colab_type": "text"
      },
      "cell_type": "markdown",
      "source": [
        " Sometimes you do not have sufficient testing data; as a result, you may want to perform Cross-validation. Let's  go over several methods that you can use for  Cross-validation. "
      ]
    },
    {
      "metadata": {
        "id": "NNwSNq-avAUk",
        "colab_type": "text"
      },
      "cell_type": "markdown",
      "source": [
        "## Cross-validation Score "
      ]
    },
    {
      "metadata": {
        "id": "Ib_jeaCYvAUk",
        "colab_type": "text"
      },
      "cell_type": "markdown",
      "source": [
        "Lets import **cross_val_score** from the module **model_selection**"
      ]
    },
    {
      "metadata": {
        "id": "incbxzlWvAUn",
        "colab_type": "code",
        "colab": {
          "base_uri": "https://localhost:8080/",
          "height": 35
        },
        "outputId": "c83cf6c5-3a74-458f-d71b-b6849289287f"
      },
      "cell_type": "code",
      "source": [
        "from sklearn.model_selection import cross_val_score\n",
        "print(\"done\")"
      ],
      "execution_count": 19,
      "outputs": [
        {
          "output_type": "stream",
          "text": [
            "done\n"
          ],
          "name": "stdout"
        }
      ]
    },
    {
      "metadata": {
        "id": "FogJkqKWvAUr",
        "colab_type": "text"
      },
      "cell_type": "markdown",
      "source": [
        "We input the object, the feature in this case ' horsepower', the target data (y_data). The parameter 'cv'  determines the number of folds; in this case 4. "
      ]
    },
    {
      "metadata": {
        "id": "hehez3eCvAUs",
        "colab_type": "code",
        "colab": {
          "base_uri": "https://localhost:8080/",
          "height": 37
        },
        "outputId": "8a057944-b47e-4f6a-bb36-9b65ae74aae8"
      },
      "cell_type": "code",
      "source": [
        "Rcross=cross_val_score(lre,x_data[['horsepower']], y_data,cv=4)"
      ],
      "execution_count": 20,
      "outputs": []
    },
    {
      "metadata": {
        "id": "LFmKr0Y6vAUv",
        "colab_type": "text"
      },
      "cell_type": "markdown",
      "source": [
        "The default scoring is R^2; each element in the array has the average  R^2 value in the fold:"
      ]
    },
    {
      "metadata": {
        "id": "3aCWoh6SvAUx",
        "colab_type": "code",
        "colab": {
          "base_uri": "https://localhost:8080/",
          "height": 35
        },
        "outputId": "6acd6643-c6b2-40a1-9d47-c6a4df2eb324"
      },
      "cell_type": "code",
      "source": [
        "Rcross"
      ],
      "execution_count": 21,
      "outputs": [
        {
          "output_type": "execute_result",
          "data": {
            "text/plain": [
              "array([0.7746232 , 0.51716687, 0.74785353, 0.04839605])"
            ]
          },
          "metadata": {
            "tags": []
          },
          "execution_count": 21
        }
      ]
    },
    {
      "metadata": {
        "id": "ROuLGrtCvAU0",
        "colab_type": "text"
      },
      "cell_type": "markdown",
      "source": [
        " We can calculate the average and standard deviation of our estimate:"
      ]
    },
    {
      "metadata": {
        "id": "JcgcEYngvAU3",
        "colab_type": "code",
        "colab": {
          "base_uri": "https://localhost:8080/",
          "height": 35
        },
        "outputId": "def605c3-d6c0-4caf-add4-94a49c6722e0"
      },
      "cell_type": "code",
      "source": [
        "print(\"The mean of the folds are\", Rcross.mean(),\"and the standard deviation is\" ,Rcross.std())"
      ],
      "execution_count": 22,
      "outputs": [
        {
          "output_type": "stream",
          "text": [
            "The mean of the folds are 0.522009915042119 and the standard deviation is 0.291183944475603\n"
          ],
          "name": "stdout"
        }
      ]
    },
    {
      "metadata": {
        "id": "jKRhx4yCvAU7",
        "colab_type": "text"
      },
      "cell_type": "markdown",
      "source": [
        " We can use negative squared error as a score by setting the parameter  'scoring' metric to 'neg_mean_squared_error'. "
      ]
    },
    {
      "metadata": {
        "id": "-f3iRpKZvAU8",
        "colab_type": "code",
        "colab": {
          "base_uri": "https://localhost:8080/",
          "height": 54
        },
        "outputId": "a93fb3a6-1fb8-44b6-d26c-48ce88413f2a"
      },
      "cell_type": "code",
      "source": [
        "-1*cross_val_score(lre,x_data[['horsepower']], y_data,cv=4,scoring='neg_mean_squared_error')"
      ],
      "execution_count": 23,
      "outputs": [
        {
          "output_type": "execute_result",
          "data": {
            "text/plain": [
              "array([20254142.84026702, 43745493.2650517 , 12539630.34014931,\n",
              "       17561927.72247591])"
            ]
          },
          "metadata": {
            "tags": []
          },
          "execution_count": 23
        }
      ]
    },
    {
      "metadata": {
        "id": "bAEKkXBCvAVA",
        "colab_type": "text"
      },
      "cell_type": "markdown",
      "source": [
        "<div class=\"alert alert-danger alertdanger\" style=\"margin-top: 20px\">\n",
        "<h1> Question  #3): </h1>\n",
        "<b> \n",
        "Calculate the average R^2 using two folds, find the average R^2 for the second fold utilizing the horsepower as a feature : \n",
        "</b>\n",
        "</div>"
      ]
    },
    {
      "metadata": {
        "id": "uENKCwDAvAVC",
        "colab_type": "code",
        "colab": {
          "base_uri": "https://localhost:8080/",
          "height": 35
        },
        "outputId": "1ecba6fa-cb6c-49c1-8392-f6e1bb6e1755"
      },
      "cell_type": "code",
      "source": [
        "Rc=cross_val_score(lre,x_data[['horsepower']], y_data,cv=2)\n",
        "Rc[1]"
      ],
      "execution_count": 24,
      "outputs": [
        {
          "output_type": "execute_result",
          "data": {
            "text/plain": [
              "0.443196127755029"
            ]
          },
          "metadata": {
            "tags": []
          },
          "execution_count": 24
        }
      ]
    },
    {
      "metadata": {
        "id": "axg4HwDSvAVH",
        "colab_type": "text"
      },
      "cell_type": "markdown",
      "source": [
        "You can also use the function 'cross_val_predict' to predict the output. The function splits up the data into the specified number of folds, using one fold to get a prediction while the rest of the folds are used as test data. First import the function:"
      ]
    },
    {
      "metadata": {
        "id": "PbahFuy4vAVJ",
        "colab_type": "code",
        "colab": {
          "base_uri": "https://localhost:8080/",
          "height": 37
        },
        "outputId": "2c313087-9562-4a6f-fa2f-e244949354a2"
      },
      "cell_type": "code",
      "source": [
        "from sklearn.model_selection import cross_val_predict"
      ],
      "execution_count": 25,
      "outputs": []
    },
    {
      "metadata": {
        "id": "1Omce2_wvAVQ",
        "colab_type": "text"
      },
      "cell_type": "markdown",
      "source": [
        " We input the object, the feature in this case **'horsepower'** , the target data **y_data**. The parameter 'cv' determines the number of folds; in this case 4.  We can produce an output:"
      ]
    },
    {
      "metadata": {
        "id": "sFBQxTvgvAVQ",
        "colab_type": "code",
        "colab": {
          "base_uri": "https://localhost:8080/",
          "height": 54
        },
        "outputId": "c3c22669-2f06-450e-e4ef-0aeb6206776d"
      },
      "cell_type": "code",
      "source": [
        "yhat=cross_val_predict(lre,x_data[['horsepower']], y_data,cv=4)\n",
        "yhat[0:5]"
      ],
      "execution_count": 26,
      "outputs": [
        {
          "output_type": "execute_result",
          "data": {
            "text/plain": [
              "array([14141.63807508, 14141.63807508, 20814.29423473, 12745.03562306,\n",
              "       14762.35027598])"
            ]
          },
          "metadata": {
            "tags": []
          },
          "execution_count": 26
        }
      ]
    },
    {
      "metadata": {
        "id": "-c0DLs7PvAVW",
        "colab_type": "text"
      },
      "cell_type": "markdown",
      "source": [
        "\n",
        "<a id=\"ref2\"></a>\n",
        "\n",
        "# Part 2: Overfitting, Underfitting and Model Selection \n",
        "\n",
        "It turns out that the test data sometimes referred to as the out of sample data is a much better measure of how well your model performs in the real world.  One reason for this is overfitting; let's go over some examples. It turns out these differences are more apparent in Multiple Linear Regression and Polynomial Regression so we will explore overfitting in that context."
      ]
    },
    {
      "metadata": {
        "id": "IDt4EfeovAVW",
        "colab_type": "text"
      },
      "cell_type": "markdown",
      "source": [
        "Let's create Multiple linear regression objects and train the model using **'horsepower'**, **'curb-weight'**, **'engine-size'** and **'highway-mpg'** as features."
      ]
    },
    {
      "metadata": {
        "id": "B87yCO5IvAVY",
        "colab_type": "code",
        "colab": {
          "base_uri": "https://localhost:8080/",
          "height": 35
        },
        "outputId": "a60f0c8e-afb4-4f69-b82c-1d9c0af019c8"
      },
      "cell_type": "code",
      "source": [
        "lr=LinearRegression()\n",
        "lr.fit(x_train[['horsepower', 'curb-weight', 'engine-size', 'highway-mpg']],y_train)"
      ],
      "execution_count": 27,
      "outputs": [
        {
          "output_type": "execute_result",
          "data": {
            "text/plain": [
              "LinearRegression(copy_X=True, fit_intercept=True, n_jobs=1, normalize=False)"
            ]
          },
          "metadata": {
            "tags": []
          },
          "execution_count": 27
        }
      ]
    },
    {
      "metadata": {
        "id": "1w0A4XervAVd",
        "colab_type": "text"
      },
      "cell_type": "markdown",
      "source": [
        "Prediction using training data:"
      ]
    },
    {
      "metadata": {
        "id": "1HQk4FhUvAVd",
        "colab_type": "code",
        "colab": {
          "base_uri": "https://localhost:8080/",
          "height": 54
        },
        "outputId": "1a57d76b-6d26-43b8-e595-a31c81380f32"
      },
      "cell_type": "code",
      "source": [
        "yhat_train=lr.predict(x_train[['horsepower', 'curb-weight', 'engine-size', 'highway-mpg']])\n",
        "yhat_train[0:5]"
      ],
      "execution_count": 28,
      "outputs": [
        {
          "output_type": "execute_result",
          "data": {
            "text/plain": [
              "array([11927.70699817, 11236.71672034,  6436.91775515, 21890.22064982,\n",
              "       16667.18254832])"
            ]
          },
          "metadata": {
            "tags": []
          },
          "execution_count": 28
        }
      ]
    },
    {
      "metadata": {
        "id": "g_PQ7qoQvAVi",
        "colab_type": "text"
      },
      "cell_type": "markdown",
      "source": [
        " Prediction using test data: "
      ]
    },
    {
      "metadata": {
        "id": "hGVgI4rbvAVi",
        "colab_type": "code",
        "colab": {
          "base_uri": "https://localhost:8080/",
          "height": 54
        },
        "outputId": "bb11432d-116a-47c6-d741-50aa0096e4e5"
      },
      "cell_type": "code",
      "source": [
        "yhat_test=lr.predict(x_test[['horsepower', 'curb-weight', 'engine-size', 'highway-mpg']])\n",
        "yhat_test[0:5]"
      ],
      "execution_count": 29,
      "outputs": [
        {
          "output_type": "execute_result",
          "data": {
            "text/plain": [
              "array([11349.16502418,  5914.48335385, 11243.76325987,  6662.03197043,\n",
              "       15555.76936275])"
            ]
          },
          "metadata": {
            "tags": []
          },
          "execution_count": 29
        }
      ]
    },
    {
      "metadata": {
        "id": "De6Bj7F8vAVl",
        "colab_type": "text"
      },
      "cell_type": "markdown",
      "source": [
        "Let's perform some model evaluation using our training and testing data separately. First  we import the seaborn and matplotlibb library for plotting."
      ]
    },
    {
      "metadata": {
        "id": "5MW6cMF3vAVm",
        "colab_type": "code",
        "colab": {
          "base_uri": "https://localhost:8080/",
          "height": 37
        },
        "outputId": "13915218-a824-4121-9c2b-1017fa57af54"
      },
      "cell_type": "code",
      "source": [
        "import matplotlib.pyplot as plt\n",
        "%matplotlib inline\n",
        "import seaborn as sns"
      ],
      "execution_count": 30,
      "outputs": []
    },
    {
      "metadata": {
        "id": "1RS1bcsUvAVs",
        "colab_type": "text"
      },
      "cell_type": "markdown",
      "source": [
        "Let's examine the distribution of the predicted values of the training data."
      ]
    },
    {
      "metadata": {
        "id": "jNYITCgFvAVt",
        "colab_type": "code",
        "colab": {
          "base_uri": "https://localhost:8080/",
          "height": 620
        },
        "outputId": "01477e7e-ac05-4b04-8086-f751798da81e"
      },
      "cell_type": "code",
      "source": [
        "Title='Distribution  Plot of  Predicted Value Using Training Data vs Training Data Distribution '\n",
        "DistributionPlot(y_train,yhat_train,\"Actual Values (Train)\",\"Predicted Values (Train)\",Title)"
      ],
      "execution_count": 31,
      "outputs": [
        {
          "output_type": "display_data",
          "data": {
            "image/png": "[encoded data removed]",
            "text/plain": [
              "<matplotlib.figure.Figure at 0x7f664314c198>"
            ]
          },
          "metadata": {
            "tags": []
          }
        }
      ]
    },
    {
      "metadata": {
        "id": "fglcTFRdvAVx",
        "colab_type": "text"
      },
      "cell_type": "markdown",
      "source": [
        " Figur 1: Plot of predicted values using the training data compared to the training data. "
      ]
    },
    {
      "metadata": {
        "id": "NHYhXjr6vAV4",
        "colab_type": "text"
      },
      "cell_type": "markdown",
      "source": [
        "So far the model seems to be doing well in learning from the training dataset. But what happens when the model encounters new data from the testing dataset? When the model generates new values from the test data, we see the distribution of the predicted values is much different from the actual target values. "
      ]
    },
    {
      "metadata": {
        "id": "KfmSxXeGvAV5",
        "colab_type": "code",
        "colab": {
          "base_uri": "https://localhost:8080/",
          "height": 620
        },
        "outputId": "6496a169-815d-43e4-ffb6-f91cfa7bf145"
      },
      "cell_type": "code",
      "source": [
        "Title='Distribution  Plot of  Predicted Value Using Test Data vs Data Distribution of Test Data'\n",
        "DistributionPlot(y_test,yhat_test,\"Actual Values (Test)\",\"Predicted Values (Test)\",Title)"
      ],
      "execution_count": 32,
      "outputs": [
        {
          "output_type": "display_data",
          "data": {
            "image/png": "[encoded data removed]",
            "text/plain": [
              "<matplotlib.figure.Figure at 0x7f66430ceba8>"
            ]
          },
          "metadata": {
            "tags": []
          }
        }
      ]
    },
    {
      "metadata": {
        "id": "TdWhS3a8vAV9",
        "colab_type": "text"
      },
      "cell_type": "markdown",
      "source": [
        "Figur 2: Plot of predicted value using the test data compared to the test data. "
      ]
    },
    {
      "metadata": {
        "id": "xGHLpTiLvAV_",
        "colab_type": "text"
      },
      "cell_type": "markdown",
      "source": [
        "Comparing Figure 1 and Figure 2; it is evident the distribution of the test data in Figure 1 is much better at fitting the data. This difference in Figure 2 is apparent where the ranges are from 5000 to 15 000. This is where the distribution shape is exceptionally different. Let's see if polynomial regression also exhibits a drop in the prediction accuracy when analysing the test dataset. "
      ]
    },
    {
      "metadata": {
        "id": "JWnaCr21vAWA",
        "colab_type": "code",
        "colab": {
          "base_uri": "https://localhost:8080/",
          "height": 35
        },
        "outputId": "af0878a7-27d9-4e2b-cb89-ccbd029f0497"
      },
      "cell_type": "code",
      "source": [
        "from sklearn.preprocessing import PolynomialFeatures\n",
        "print(\"done\")"
      ],
      "execution_count": 33,
      "outputs": [
        {
          "output_type": "stream",
          "text": [
            "done\n"
          ],
          "name": "stdout"
        }
      ]
    },
    {
      "metadata": {
        "id": "qZ9CP7eGvAWF",
        "colab_type": "text"
      },
      "cell_type": "markdown",
      "source": [
        "####  Overfitting \n",
        "Overfitting occurs when the model fits the noise, not the underlying process. Therefore when testing your model using the test-set, your model does not perform as well as it is modelling noise, not the underlying process that generated the relationship. Let's create a degree 5 polynomial model."
      ]
    },
    {
      "metadata": {
        "id": "lFl3IgGfvAWG",
        "colab_type": "text"
      },
      "cell_type": "markdown",
      "source": [
        "Let's use 55 percent of the data for testing and the rest for training:"
      ]
    },
    {
      "metadata": {
        "id": "UqVS7BpMvAWH",
        "colab_type": "code",
        "colab": {
          "base_uri": "https://localhost:8080/",
          "height": 35
        },
        "outputId": "22feed75-14be-440f-f7a2-c687bbf5cf5e"
      },
      "cell_type": "code",
      "source": [
        "x_train, x_test, y_train, y_test = train_test_split(x_data, y_data, test_size=0.45, random_state=0)\n",
        "print(\"done\")"
      ],
      "execution_count": 34,
      "outputs": [
        {
          "output_type": "stream",
          "text": [
            "done\n"
          ],
          "name": "stdout"
        }
      ]
    },
    {
      "metadata": {
        "id": "0RoDrN8wvAWL",
        "colab_type": "text"
      },
      "cell_type": "markdown",
      "source": [
        "We will perform a degree 5 polynomial transformation on the feature **'horse power'**. "
      ]
    },
    {
      "metadata": {
        "id": "6MGcmBC1vAWM",
        "colab_type": "code",
        "colab": {
          "base_uri": "https://localhost:8080/",
          "height": 35
        },
        "outputId": "094f3266-e05c-4b05-b2f2-356763e753d4"
      },
      "cell_type": "code",
      "source": [
        "pr=PolynomialFeatures(degree=5)\n",
        "x_train_pr=pr.fit_transform(x_train[['horsepower']])\n",
        "x_test_pr=pr.fit_transform(x_test[['horsepower']])\n",
        "pr"
      ],
      "execution_count": 35,
      "outputs": [
        {
          "output_type": "execute_result",
          "data": {
            "text/plain": [
              "PolynomialFeatures(degree=5, include_bias=True, interaction_only=False)"
            ]
          },
          "metadata": {
            "tags": []
          },
          "execution_count": 35
        }
      ]
    },
    {
      "metadata": {
        "id": "84bD5qchvAWS",
        "colab_type": "text"
      },
      "cell_type": "markdown",
      "source": [
        "Now let's create a linear regression model \"poly\" and train it."
      ]
    },
    {
      "metadata": {
        "id": "WKvIKsY0vAWU",
        "colab_type": "code",
        "colab": {
          "base_uri": "https://localhost:8080/",
          "height": 35
        },
        "outputId": "f51b0ac9-d906-40a7-9841-f0ca1920af6c"
      },
      "cell_type": "code",
      "source": [
        "poly=LinearRegression()\n",
        "poly.fit(x_train_pr,y_train)"
      ],
      "execution_count": 36,
      "outputs": [
        {
          "output_type": "execute_result",
          "data": {
            "text/plain": [
              "LinearRegression(copy_X=True, fit_intercept=True, n_jobs=1, normalize=False)"
            ]
          },
          "metadata": {
            "tags": []
          },
          "execution_count": 36
        }
      ]
    },
    {
      "metadata": {
        "id": "FLF7upOlvAWX",
        "colab_type": "text"
      },
      "cell_type": "markdown",
      "source": [
        " We can see the output of our model using the method  \"predict.\" then assign the values to \"yhat\"."
      ]
    },
    {
      "metadata": {
        "id": "5Alw2inYvAWY",
        "colab_type": "code",
        "colab": {
          "base_uri": "https://localhost:8080/",
          "height": 54
        },
        "outputId": "bbea7eab-463a-4704-ed30-b6814c4ce31a"
      },
      "cell_type": "code",
      "source": [
        "yhat=poly.predict(x_test_pr )\n",
        "yhat[0:5]"
      ],
      "execution_count": 37,
      "outputs": [
        {
          "output_type": "execute_result",
          "data": {
            "text/plain": [
              "array([ 6728.65561887,  7307.98782321, 12213.78770965, 18893.24804015,\n",
              "       19995.95195136])"
            ]
          },
          "metadata": {
            "tags": []
          },
          "execution_count": 37
        }
      ]
    },
    {
      "metadata": {
        "id": "JnvwbMDYvAWc",
        "colab_type": "text"
      },
      "cell_type": "markdown",
      "source": [
        "Let's take the first five predicted values and compare it to the actual targets. "
      ]
    },
    {
      "metadata": {
        "id": "Y4_AKCV8vAWc",
        "colab_type": "code",
        "colab": {
          "base_uri": "https://localhost:8080/",
          "height": 54
        },
        "outputId": "280c8580-4b2a-4093-e607-36a227497ca4"
      },
      "cell_type": "code",
      "source": [
        "print(\"Predicted values:\", yhat[0:4])\n",
        "print(\"True values:\",y_test[0:4].values)"
      ],
      "execution_count": 38,
      "outputs": [
        {
          "output_type": "stream",
          "text": [
            "Predicted values: [ 6728.65561887  7307.98782321 12213.78770965 18893.24804015]\n",
            "True values: [ 6295. 10698. 13860. 13499.]\n"
          ],
          "name": "stdout"
        }
      ]
    },
    {
      "metadata": {
        "id": "I_IkNWx6vAWj",
        "colab_type": "text"
      },
      "cell_type": "markdown",
      "source": [
        "We will use the function \"PollyPlot\" that we defined at the beginning of the lab to display the training data, testing data, and the predicted function."
      ]
    },
    {
      "metadata": {
        "id": "N14pX812vAWk",
        "colab_type": "code",
        "colab": {
          "base_uri": "https://localhost:8080/",
          "height": 595
        },
        "outputId": "5f0f4007-9c98-46db-8729-1ee1ac3d15b1"
      },
      "cell_type": "code",
      "source": [
        "PollyPlot(x_train[['horsepower']],x_test[['horsepower']],y_train,y_test,poly,pr)"
      ],
      "execution_count": 39,
      "outputs": [
        {
          "output_type": "display_data",
          "data": {
            "image/png": "[encoded data removed]",
            "text/plain": [
              "<matplotlib.figure.Figure at 0x7f6644f08898>"
            ]
          },
          "metadata": {
            "tags": []
          }
        }
      ]
    },
    {
      "metadata": {
        "id": "1P5pckpGvAWn",
        "colab_type": "text"
      },
      "cell_type": "markdown",
      "source": [
        "Figur 4 A polynomial regression model, red dots represent training data, green dots represent test data, and the blue line represents the model prediction. "
      ]
    },
    {
      "metadata": {
        "id": "ClXj3THZvAWo",
        "colab_type": "text"
      },
      "cell_type": "markdown",
      "source": [
        "We see that the estimated function appears to track the data but around 200 horsepower, the function begins to diverge from the data points. "
      ]
    },
    {
      "metadata": {
        "id": "V_4HDhpHvAWp",
        "colab_type": "text"
      },
      "cell_type": "markdown",
      "source": [
        " R^2 of the training data:"
      ]
    },
    {
      "metadata": {
        "id": "YfXHbz1KvAWq",
        "colab_type": "code",
        "colab": {
          "base_uri": "https://localhost:8080/",
          "height": 35
        },
        "outputId": "2be1dcd4-8df6-4770-c223-4c21ecb32b0f"
      },
      "cell_type": "code",
      "source": [
        "poly.score(x_train_pr, y_train)"
      ],
      "execution_count": 40,
      "outputs": [
        {
          "output_type": "execute_result",
          "data": {
            "text/plain": [
              "0.556771690212023"
            ]
          },
          "metadata": {
            "tags": []
          },
          "execution_count": 40
        }
      ]
    },
    {
      "metadata": {
        "id": "sgUmEhHWvAWu",
        "colab_type": "text"
      },
      "cell_type": "markdown",
      "source": [
        " R^2 of the test data:"
      ]
    },
    {
      "metadata": {
        "id": "LJ3u97hvvAWv",
        "colab_type": "code",
        "colab": {
          "base_uri": "https://localhost:8080/",
          "height": 35
        },
        "outputId": "63bddcae-bb79-4a71-f44f-c0a940796a73"
      },
      "cell_type": "code",
      "source": [
        "poly.score(x_test_pr, y_test)"
      ],
      "execution_count": 41,
      "outputs": [
        {
          "output_type": "execute_result",
          "data": {
            "text/plain": [
              "-29.871340302044153"
            ]
          },
          "metadata": {
            "tags": []
          },
          "execution_count": 41
        }
      ]
    },
    {
      "metadata": {
        "id": "JrqySejkvAWz",
        "colab_type": "text"
      },
      "cell_type": "markdown",
      "source": [
        "We see the R^2 for the training data is 0.5567 while the R^2 on the test data was -29.87.  The lower the R^2, the worse the model, a Negative R^2 is a sign of overfitting."
      ]
    },
    {
      "metadata": {
        "id": "hI4pvpBmvAW1",
        "colab_type": "text"
      },
      "cell_type": "markdown",
      "source": [
        "Let's see how the R^2 changes on the test data for different order polynomials and plot the results:"
      ]
    },
    {
      "metadata": {
        "id": "4aCa91ijvAW2",
        "colab_type": "code",
        "colab": {
          "base_uri": "https://localhost:8080/",
          "height": 313
        },
        "outputId": "a5956811-408e-40c4-9098-4ecfb97dd1cb"
      },
      "cell_type": "code",
      "source": [
        "Rsqu_test=[]\n",
        "\n",
        "order=[1,2,3,4]\n",
        "for n in order:\n",
        "    pr=PolynomialFeatures(degree=n)\n",
        "    \n",
        "    x_train_pr=pr.fit_transform(x_train[['horsepower']])\n",
        "    \n",
        "    x_test_pr=pr.fit_transform(x_test[['horsepower']])    \n",
        "    \n",
        "    lr.fit(x_train_pr,y_train)\n",
        "    \n",
        "    Rsqu_test.append(lr.score(x_test_pr,y_test))\n",
        "\n",
        "plt.plot(order,Rsqu_test)\n",
        "plt.xlabel('order')\n",
        "plt.ylabel('R^2')\n",
        "plt.title('R^2 Using Test Data')\n",
        "plt.text(3, 0.75, 'Maximum R^2 ')    "
      ],
      "execution_count": 42,
      "outputs": [
        {
          "output_type": "execute_result",
          "data": {
            "text/plain": [
              "Text(3,0.75,'Maximum R^2 ')"
            ]
          },
          "metadata": {
            "tags": []
          },
          "execution_count": 42
        },
        {
          "output_type": "display_data",
          "data": {
            "image/png": "[encoded data removed]",
            "text/plain": [
              "<matplotlib.figure.Figure at 0x7f6643074d68>"
            ]
          },
          "metadata": {
            "tags": []
          }
        }
      ]
    },
    {
      "metadata": {
        "id": "6dyv1JVIvAW7",
        "colab_type": "text"
      },
      "cell_type": "markdown",
      "source": [
        " We see the R^2 gradually increases until an order three polynomial is used. Then the  R^2 dramatically decreases at four."
      ]
    },
    {
      "metadata": {
        "id": "VQLgjiIRvAW8",
        "colab_type": "text"
      },
      "cell_type": "markdown",
      "source": [
        " The following function will be used in the next section; please run the cell."
      ]
    },
    {
      "metadata": {
        "id": "Df90usEtvAW8",
        "colab_type": "code",
        "colab": {
          "base_uri": "https://localhost:8080/",
          "height": 37
        },
        "outputId": "5628aa60-ddd9-4140-b2ee-7362abf35cee"
      },
      "cell_type": "code",
      "source": [
        "def f(order,test_data):\n",
        "    x_train, x_test, y_train, y_test = train_test_split(x_data, y_data, test_size=test_data, random_state=0)\n",
        "    pr=PolynomialFeatures(degree=order)\n",
        "    x_train_pr=pr.fit_transform(x_train[['horsepower']])\n",
        "    x_test_pr=pr.fit_transform(x_test[['horsepower']])\n",
        "    poly=LinearRegression()\n",
        "    poly.fit(x_train_pr,y_train)\n",
        "    PollyPlot(x_train[['horsepower']],x_test[['horsepower']],y_train,y_test,poly,pr)\n"
      ],
      "execution_count": 43,
      "outputs": []
    },
    {
      "metadata": {
        "id": "2AyugHjovAXC",
        "colab_type": "text"
      },
      "cell_type": "markdown",
      "source": [
        "The following interface allows you to experiment with different polynomial orders and different amounts of data. "
      ]
    },
    {
      "metadata": {
        "id": "JtVk_KEjvAXD",
        "colab_type": "code",
        "colab": {
          "base_uri": "https://localhost:8080/",
          "height": 614
        },
        "outputId": "127e2226-704c-4ece-e8c5-19f177fe6c80"
      },
      "cell_type": "code",
      "source": [
        "interact(f, order=(0,6,1),test_data=(0.05,0.95,0.05))"
      ],
      "execution_count": 44,
      "outputs": [
        {
          "output_type": "display_data",
          "data": {
            "image/png": "[encoded data removed]",
            "text/plain": [
              "<matplotlib.figure.Figure at 0x7f6640fea6a0>"
            ]
          },
          "metadata": {
            "tags": []
          }
        },
        {
          "output_type": "execute_result",
          "data": {
            "text/plain": [
              "<function __main__.f>"
            ]
          },
          "metadata": {
            "tags": []
          },
          "execution_count": 44
        }
      ]
    },
    {
      "metadata": {
        "id": "EBU0ainvvAXG",
        "colab_type": "text"
      },
      "cell_type": "markdown",
      "source": [
        " <div class=\"alert alert-danger alertdanger\" style=\"margin-top: 20px\">\n",
        "<h1> Question  #4a): </h1>\n",
        "\n",
        "<b> We can perform polynomial transformations with more than one feature. Create a \"PolynomialFeatures\" object \"pr1\" of degree two. ? \n",
        "?</b>\n",
        "</div>"
      ]
    },
    {
      "metadata": {
        "id": "5A-5H5zShpru",
        "colab_type": "code",
        "colab": {
          "base_uri": "https://localhost:8080/",
          "height": 37
        },
        "outputId": "6c85820c-e5bf-4b2d-a795-3c9de27fea13"
      },
      "cell_type": "code",
      "source": [
        "pr1=PolynomialFeatures(degree=2)"
      ],
      "execution_count": 45,
      "outputs": []
    },
    {
      "metadata": {
        "id": "SYhwmRSgvAXI",
        "colab_type": "text"
      },
      "cell_type": "markdown",
      "source": [
        "<div class=\"alert alert-danger alertdanger\" style=\"margin-top: 20px\">\n",
        "<h1> Question  #4b): </h1>\n",
        "\n",
        "<b> \n",
        " Transform the training and testing samples for the features 'horsepower', 'curb-weight', 'engine-size' and 'highway-mpg'. Hint: use the method \"fit_transform\" \n",
        "?</b>\n",
        "</div>"
      ]
    },
    {
      "metadata": {
        "id": "pNFhDUDIhrQ9",
        "colab_type": "code",
        "colab": {
          "base_uri": "https://localhost:8080/",
          "height": 37
        },
        "outputId": "398c8dd4-d787-4ae8-af17-d87038e88a21"
      },
      "cell_type": "code",
      "source": [
        "x_train_pr1=pr.fit_transform(x_train[['horsepower', 'curb-weight', 'engine-size', 'highway-mpg']])\n",
        "x_test_pr1=pr.fit_transform(x_test[['horsepower', 'curb-weight', 'engine-size', 'highway-mpg']])"
      ],
      "execution_count": 46,
      "outputs": []
    },
    {
      "metadata": {
        "id": "SxQJ4yryvAXM",
        "colab_type": "text"
      },
      "cell_type": "markdown",
      "source": [
        "<div class=\"alert alert-danger alertdanger\" style=\"margin-top: 20px\">\n",
        "<h1> Question  #4c): </h1>\n",
        "\n",
        "<b> \n",
        "How many dimensions does the new feature have? Hint: use the attribute \"shape\"\n",
        "</b>\n",
        "</div>\n"
      ]
    },
    {
      "metadata": {
        "id": "DHXrv5_ShyeE",
        "colab_type": "code",
        "colab": {
          "base_uri": "https://localhost:8080/",
          "height": 35
        },
        "outputId": "93041b44-b878-4aff-ab57-05e4f6b1cae8"
      },
      "cell_type": "code",
      "source": [
        "x_train_pr1.shape"
      ],
      "execution_count": 47,
      "outputs": [
        {
          "output_type": "execute_result",
          "data": {
            "text/plain": [
              "(110, 70)"
            ]
          },
          "metadata": {
            "tags": []
          },
          "execution_count": 47
        }
      ]
    },
    {
      "metadata": {
        "id": "E1qC0C_wvAXQ",
        "colab_type": "text"
      },
      "cell_type": "markdown",
      "source": [
        "<div class=\"alert alert-danger alertdanger\" style=\"margin-top: 20px\">\n",
        "<h1> Question  #4d): </h1>\n",
        "\n",
        "<b> \n",
        "Create a linear regression model \"poly1\" and train the object using the method \"fit\" using the polynomial features? </b>\n",
        "</div>\n"
      ]
    },
    {
      "metadata": {
        "id": "FAUhh-PyiDtP",
        "colab_type": "code",
        "colab": {
          "base_uri": "https://localhost:8080/",
          "height": 17
        },
        "outputId": "7ba9210a-0173-4f05-e6af-3c899a89c28a"
      },
      "cell_type": "code",
      "source": [
        "import sklearn\n",
        "poly1=sklearn.linear_model.LinearRegression().fit(x_train_pr1,y_train)"
      ],
      "execution_count": 50,
      "outputs": []
    },
    {
      "metadata": {
        "id": "galOL0YPvAXT",
        "colab_type": "text"
      },
      "cell_type": "markdown",
      "source": [
        " <div class=\"alert alert-danger alertdanger\" style=\"margin-top: 20px\">\n",
        "<h1> Question  #4e): </h1>\n",
        "\n",
        "<b> \n",
        " \n",
        " Use the method  \"predict\" to predict an output on the polynomial features, then use the function \"DistributionPlot\"  to display the distribution of the predicted output vs the test data?</b>\n",
        "</div>"
      ]
    },
    {
      "metadata": {
        "id": "c6Heq_OYiQrM",
        "colab_type": "code",
        "colab": {
          "base_uri": "https://localhost:8080/",
          "height": 620
        },
        "outputId": "9cc6e775-faac-4cc5-9690-ea52d97ae466"
      },
      "cell_type": "code",
      "source": [
        "yhat_test1=poly1.predict(x_train_pr1)\n",
        "Title='Distribution  Plot of  Predicted Value Using Test Data vs Data Distribution of Test Data'\n",
        "DistributionPlot(y_test,yhat_test1,\"Actual Values (Test)\",\"Predicted Values (Test)\",Title)\n"
      ],
      "execution_count": 51,
      "outputs": [
        {
          "output_type": "display_data",
          "data": {
            "image/png": "[encoded data removed]",
            "text/plain": [
              "<matplotlib.figure.Figure at 0x7f6640ef13c8>"
            ]
          },
          "metadata": {
            "tags": []
          }
        }
      ]
    },
    {
      "metadata": {
        "id": "Gt2E6La9vAXU",
        "colab_type": "text"
      },
      "cell_type": "markdown",
      "source": [
        " <div class=\"alert alert-danger alertdanger\" style=\"margin-top: 20px\">\n",
        "<h1> Question  #4f): </h1>\n",
        "\n",
        "<b> \n",
        " Use the distribution plot to determine the two regions were the predicted prices are less accurate than the actual prices.\n",
        " </div>"
      ]
    },
    {
      "metadata": {
        "id": "i44iNciovAXW",
        "colab_type": "text"
      },
      "cell_type": "markdown",
      "source": [
        "### The predicted value is lower than actual value for cars where the price *` $ 10,000 range, conversely the predicted price is larger than the price cost in the`* $30, 000 to `$40,000 ` range. As such the model is not as accurate in these ranges  \n",
        "\n",
        "\n",
        "<!-- Your answer is below:\n",
        "\n",
        "\n",
        "-->"
      ]
    },
    {
      "metadata": {
        "id": "P2d8-tv8vAXX",
        "colab_type": "text"
      },
      "cell_type": "markdown",
      "source": [
        "<img src = \"https://ibm.box.com/shared/static/c35ipv9zeanu7ynsnppb8gjo2re5ugeg.png\" width = 700, align = \"center\">\n",
        "\n"
      ]
    },
    {
      "metadata": {
        "id": "vgUeGjyEvAXX",
        "colab_type": "text"
      },
      "cell_type": "markdown",
      "source": [
        "<a id=\"ref3\"></a>\n",
        "\n",
        "## Part 3: Ridge regression "
      ]
    },
    {
      "metadata": {
        "id": "DHSkcwNsvAXZ",
        "colab_type": "text"
      },
      "cell_type": "markdown",
      "source": [
        " In this section, we will review Ridge Regression we will see how the parameter Alfa changes the model. Just a note here our test data will be used as validation data."
      ]
    },
    {
      "metadata": {
        "id": "Jx6cyE8LvAXZ",
        "colab_type": "text"
      },
      "cell_type": "markdown",
      "source": [
        " Let's perform a degree two polynomial transformation on our data. "
      ]
    },
    {
      "metadata": {
        "id": "-fWLc0iCvAXb",
        "colab_type": "code",
        "colab": {
          "base_uri": "https://localhost:8080/",
          "height": 37
        },
        "outputId": "2ec02e6c-f3f6-4e78-c808-a7e0da72c29f"
      },
      "cell_type": "code",
      "source": [
        "pr=PolynomialFeatures(degree=2)\n",
        "x_train_pr=pr.fit_transform(x_train[['horsepower', 'curb-weight', 'engine-size', 'highway-mpg','normalized-losses','symboling']])\n",
        "x_test_pr=pr.fit_transform(x_test[['horsepower', 'curb-weight', 'engine-size', 'highway-mpg','normalized-losses','symboling']])"
      ],
      "execution_count": 52,
      "outputs": []
    },
    {
      "metadata": {
        "id": "CfXNpj2ivAXd",
        "colab_type": "text"
      },
      "cell_type": "markdown",
      "source": [
        " Let's import  **Ridge**  from the module **linear models**."
      ]
    },
    {
      "metadata": {
        "id": "UbDkf9_mvAXe",
        "colab_type": "code",
        "colab": {
          "base_uri": "https://localhost:8080/",
          "height": 37
        },
        "outputId": "6df81998-7031-4597-80c7-4feae611b90d"
      },
      "cell_type": "code",
      "source": [
        "from sklearn.linear_model import Ridge"
      ],
      "execution_count": 53,
      "outputs": []
    },
    {
      "metadata": {
        "id": "kilqK8CXvAXi",
        "colab_type": "text"
      },
      "cell_type": "markdown",
      "source": [
        "Let's create a Ridge regression object, setting the regularization parameter to 0.1 "
      ]
    },
    {
      "metadata": {
        "id": "DLoyePTbvAXj",
        "colab_type": "code",
        "colab": {
          "base_uri": "https://localhost:8080/",
          "height": 37
        },
        "outputId": "cf10cb7f-2b9b-487d-9a0f-5670b31dc07f"
      },
      "cell_type": "code",
      "source": [
        "RigeModel=Ridge(alpha=0.1)"
      ],
      "execution_count": 54,
      "outputs": []
    },
    {
      "metadata": {
        "id": "pu1MRagWvAXl",
        "colab_type": "text"
      },
      "cell_type": "markdown",
      "source": [
        " Like regular regression, you can fit the model using the method **fit**."
      ]
    },
    {
      "metadata": {
        "id": "sfl0ZamFvAXm",
        "colab_type": "code",
        "colab": {
          "base_uri": "https://localhost:8080/",
          "height": 54
        },
        "outputId": "c449fa9a-4fc5-4c30-96ba-c5d028ae1a3e"
      },
      "cell_type": "code",
      "source": [
        "RigeModel.fit(x_train_pr,y_train)"
      ],
      "execution_count": 55,
      "outputs": [
        {
          "output_type": "execute_result",
          "data": {
            "text/plain": [
              "Ridge(alpha=0.1, copy_X=True, fit_intercept=True, max_iter=None,\n",
              "   normalize=False, random_state=None, solver='auto', tol=0.001)"
            ]
          },
          "metadata": {
            "tags": []
          },
          "execution_count": 55
        }
      ]
    },
    {
      "metadata": {
        "id": "p2L1GIm4vAXp",
        "colab_type": "text"
      },
      "cell_type": "markdown",
      "source": [
        " Similarly, you can obtain a prediction: "
      ]
    },
    {
      "metadata": {
        "id": "JKWC-0bQvAXp",
        "colab_type": "code",
        "colab": {
          "base_uri": "https://localhost:8080/",
          "height": 37
        },
        "outputId": "20109155-1f05-4fca-9213-983a13563559"
      },
      "cell_type": "code",
      "source": [
        "yhat=RigeModel.predict(x_test_pr)"
      ],
      "execution_count": 56,
      "outputs": []
    },
    {
      "metadata": {
        "id": "12XIqfr-vAXt",
        "colab_type": "text"
      },
      "cell_type": "markdown",
      "source": [
        "Let's compare the first five predicted samples to our test set "
      ]
    },
    {
      "metadata": {
        "id": "twmhzhrUvAXv",
        "colab_type": "code",
        "colab": {
          "base_uri": "https://localhost:8080/",
          "height": 54
        },
        "outputId": "a9d2d116-f698-45a9-e185-3bddc0453d5e"
      },
      "cell_type": "code",
      "source": [
        "print('predicted:', yhat[0:4])\n",
        "print('test set :', y_test[0:4].values)"
      ],
      "execution_count": 57,
      "outputs": [
        {
          "output_type": "stream",
          "text": [
            "predicted: [ 6567.83081933  9597.97151399 20836.22326843 19347.69543463]\n",
            "test set : [ 6295. 10698. 13860. 13499.]\n"
          ],
          "name": "stdout"
        }
      ]
    },
    {
      "metadata": {
        "id": "Byz2P9tjvAXy",
        "colab_type": "text"
      },
      "cell_type": "markdown",
      "source": [
        " We select the value of Alfa that minimizes the test error, for example, we can use a for loop. "
      ]
    },
    {
      "metadata": {
        "id": "YYRB9J56vAXz",
        "colab_type": "code",
        "colab": {
          "base_uri": "https://localhost:8080/",
          "height": 37
        },
        "outputId": "26d6f55b-15d4-487d-848e-5f5a36f848ae"
      },
      "cell_type": "code",
      "source": [
        "Rsqu_test=[]\n",
        "Rsqu_train=[]\n",
        "dummy1=[]\n",
        "ALFA=5000*np.array(range(0,10000))\n",
        "for alfa in ALFA:\n",
        "    RigeModel=Ridge(alpha=alfa) \n",
        "    RigeModel.fit(x_train_pr,y_train)\n",
        "    Rsqu_test.append(RigeModel.score(x_test_pr,y_test))\n",
        "    Rsqu_train.append(RigeModel.score(x_train_pr,y_train))"
      ],
      "execution_count": 58,
      "outputs": []
    },
    {
      "metadata": {
        "id": "NViDzBKVvAX4",
        "colab_type": "text"
      },
      "cell_type": "markdown",
      "source": [
        "We can plot out the value of R^2 for different Alphas "
      ]
    },
    {
      "metadata": {
        "id": "z7uEF5BUvAX5",
        "colab_type": "code",
        "colab": {
          "base_uri": "https://localhost:8080/",
          "height": 625
        },
        "outputId": "4a5db2f7-5b83-4a0c-876e-f287017f5f2c"
      },
      "cell_type": "code",
      "source": [
        "width = 12\n",
        "height = 10\n",
        "plt.figure(figsize=(width, height))\n",
        "\n",
        "plt.plot(ALFA,Rsqu_test,label='validation data  ')\n",
        "plt.plot(ALFA,Rsqu_train,'r',label='training Data ')\n",
        "plt.xlabel('alpha')\n",
        "plt.ylabel('R^2')\n",
        "plt.legend()\n"
      ],
      "execution_count": 59,
      "outputs": [
        {
          "output_type": "execute_result",
          "data": {
            "text/plain": [
              "<matplotlib.legend.Legend at 0x7f663f5c6e10>"
            ]
          },
          "metadata": {
            "tags": []
          },
          "execution_count": 59
        },
        {
          "output_type": "display_data",
          "data": {
            "image/png": "[encoded data removed]",
            "text/plain": [
              "<matplotlib.figure.Figure at 0x7f6640e9cc50>"
            ]
          },
          "metadata": {
            "tags": []
          }
        }
      ]
    },
    {
      "metadata": {
        "id": "GQ6e9xSvvAX9",
        "colab_type": "text"
      },
      "cell_type": "markdown",
      "source": [
        "  Figure 6:The blue line represents the R^2 of the test data, and the red line represents the R^2 of the training data. The x-axis represents the different values of Alfa "
      ]
    },
    {
      "metadata": {
        "id": "W2OfcZEGvAX9",
        "colab_type": "text"
      },
      "cell_type": "markdown",
      "source": [
        " The red line in figure 6 represents the  R^2 of the test data, as Alpha increases the R^2 decreases; therefore as Alfa increases the model performs worse on the test data.  The blue line represents the R^2 on the validation data, as the value for Alfa increases the R^2 decreases.   "
      ]
    },
    {
      "metadata": {
        "id": "hVEW4NKLvAX-",
        "colab_type": "text"
      },
      "cell_type": "markdown",
      "source": [
        "<div class=\"alert alert-danger alertdanger\" style=\"margin-top: 20px\">\n",
        "<h1> Question  #5): </h1>\n",
        "\n",
        "Perform Ridge regression and calculate the R^2 using the polynomial features, use the training data to train the model and test data to test the model. The parameter alpha should be set to  10.\n",
        "</div>"
      ]
    },
    {
      "metadata": {
        "id": "m0cC8prOvAYA",
        "colab_type": "code",
        "colab": {
          "base_uri": "https://localhost:8080/",
          "height": 35
        },
        "outputId": "9a632208-2dd8-4bb4-952a-b936d0866ba7"
      },
      "cell_type": "code",
      "source": [
        "RigeModel=Ridge(alpha=0) \n",
        "RigeModel.fit(x_train_pr,y_train)\n",
        "RigeModel.score(x_test_pr, y_test)\n"
      ],
      "execution_count": 60,
      "outputs": [
        {
          "output_type": "execute_result",
          "data": {
            "text/plain": [
              "0.47098333063511094"
            ]
          },
          "metadata": {
            "tags": []
          },
          "execution_count": 60
        }
      ]
    },
    {
      "metadata": {
        "id": "tiKIbGvnvAYC",
        "colab_type": "text"
      },
      "cell_type": "markdown",
      "source": [
        "<a id=\"ref4\"></a>\n",
        "\n",
        "## Part 4: Grid Search"
      ]
    },
    {
      "metadata": {
        "id": "lTH0WMJavAYE",
        "colab_type": "text"
      },
      "cell_type": "markdown",
      "source": [
        "The term Alfa is a hyperparameter, sklearn has the class  **GridSearchCV** to make the process of finding the best hyperparameter simpler."
      ]
    },
    {
      "metadata": {
        "id": "qwHZIeiVvAYF",
        "colab_type": "text"
      },
      "cell_type": "markdown",
      "source": [
        " Let's import **GridSearchCV** from  the module **model_selection**"
      ]
    },
    {
      "metadata": {
        "id": "65u_-2IOvAYF",
        "colab_type": "code",
        "colab": {
          "base_uri": "https://localhost:8080/",
          "height": 35
        },
        "outputId": "957bee99-d68d-4c69-9ce4-b416505cecef"
      },
      "cell_type": "code",
      "source": [
        "from sklearn.model_selection import GridSearchCV\n",
        "print(\"done\")"
      ],
      "execution_count": 61,
      "outputs": [
        {
          "output_type": "stream",
          "text": [
            "done\n"
          ],
          "name": "stdout"
        }
      ]
    },
    {
      "metadata": {
        "id": "5OPwfOdWvAYJ",
        "colab_type": "text"
      },
      "cell_type": "markdown",
      "source": [
        "We create a dictionary of parameter values:"
      ]
    },
    {
      "metadata": {
        "id": "_0vYEUg-vAYK",
        "colab_type": "code",
        "colab": {
          "base_uri": "https://localhost:8080/",
          "height": 35
        },
        "outputId": "adb1994d-5bcd-45ed-be28-0e2719a220a5"
      },
      "cell_type": "code",
      "source": [
        "parameters1= [{'alpha': [0.001,0.1,1, 10, 100, 1000,10000,100000,100000]}]\n",
        "parameters1"
      ],
      "execution_count": 62,
      "outputs": [
        {
          "output_type": "execute_result",
          "data": {
            "text/plain": [
              "[{'alpha': [0.001, 0.1, 1, 10, 100, 1000, 10000, 100000, 100000]}]"
            ]
          },
          "metadata": {
            "tags": []
          },
          "execution_count": 62
        }
      ]
    },
    {
      "metadata": {
        "id": "44LKLyYfvAYQ",
        "colab_type": "text"
      },
      "cell_type": "markdown",
      "source": [
        "Create a ridge regions object:"
      ]
    },
    {
      "metadata": {
        "id": "oLyp7Mi8vAYR",
        "colab_type": "code",
        "colab": {
          "base_uri": "https://localhost:8080/",
          "height": 54
        },
        "outputId": "71afbdd1-c82b-45e8-d413-dae2cb954db0"
      },
      "cell_type": "code",
      "source": [
        "RR=Ridge()\n",
        "RR"
      ],
      "execution_count": 63,
      "outputs": [
        {
          "output_type": "execute_result",
          "data": {
            "text/plain": [
              "Ridge(alpha=1.0, copy_X=True, fit_intercept=True, max_iter=None,\n",
              "   normalize=False, random_state=None, solver='auto', tol=0.001)"
            ]
          },
          "metadata": {
            "tags": []
          },
          "execution_count": 63
        }
      ]
    },
    {
      "metadata": {
        "id": "DUJ3tSPGvAYZ",
        "colab_type": "text"
      },
      "cell_type": "markdown",
      "source": [
        "Create a ridge grid search object "
      ]
    },
    {
      "metadata": {
        "id": "KdTOApRgvAYb",
        "colab_type": "code",
        "colab": {
          "base_uri": "https://localhost:8080/",
          "height": 37
        },
        "outputId": "a385a33b-a293-48ef-f5f6-45bef94754c3"
      },
      "cell_type": "code",
      "source": [
        "Grid1 = GridSearchCV(RR, parameters1,cv=4)"
      ],
      "execution_count": 64,
      "outputs": []
    },
    {
      "metadata": {
        "id": "KHwimDvLvAYe",
        "colab_type": "text"
      },
      "cell_type": "markdown",
      "source": [
        "Fit the model "
      ]
    },
    {
      "metadata": {
        "id": "kW_pNxFrvAYe",
        "colab_type": "code",
        "colab": {
          "base_uri": "https://localhost:8080/",
          "height": 145
        },
        "outputId": "324cfc44-c888-456f-9e6d-f652d77e0bcb"
      },
      "cell_type": "code",
      "source": [
        "Grid1.fit(x_data[['horsepower', 'curb-weight', 'engine-size', 'highway-mpg']],y_data)"
      ],
      "execution_count": 65,
      "outputs": [
        {
          "output_type": "execute_result",
          "data": {
            "text/plain": [
              "GridSearchCV(cv=4, error_score='raise',\n",
              "       estimator=Ridge(alpha=1.0, copy_X=True, fit_intercept=True, max_iter=None,\n",
              "   normalize=False, random_state=None, solver='auto', tol=0.001),\n",
              "       fit_params=None, iid=True, n_jobs=1,\n",
              "       param_grid=[{'alpha': [0.001, 0.1, 1, 10, 100, 1000, 10000, 100000, 100000]}],\n",
              "       pre_dispatch='2*n_jobs', refit=True, return_train_score='warn',\n",
              "       scoring=None, verbose=0)"
            ]
          },
          "metadata": {
            "tags": []
          },
          "execution_count": 65
        }
      ]
    },
    {
      "metadata": {
        "id": "pId0GmTMvAYh",
        "colab_type": "text"
      },
      "cell_type": "markdown",
      "source": [
        "The object finds the best parameter values on the validation data. We can obtain the estimator with the best parameters and assign it to the variable BestRR as follows:"
      ]
    },
    {
      "metadata": {
        "id": "VEVopzilvAYh",
        "colab_type": "code",
        "colab": {
          "base_uri": "https://localhost:8080/",
          "height": 54
        },
        "outputId": "4cf0f378-7a96-4331-e516-a159707c098c"
      },
      "cell_type": "code",
      "source": [
        "BestRR=Grid1.best_estimator_\n",
        "BestRR"
      ],
      "execution_count": 66,
      "outputs": [
        {
          "output_type": "execute_result",
          "data": {
            "text/plain": [
              "Ridge(alpha=10000, copy_X=True, fit_intercept=True, max_iter=None,\n",
              "   normalize=False, random_state=None, solver='auto', tol=0.001)"
            ]
          },
          "metadata": {
            "tags": []
          },
          "execution_count": 66
        }
      ]
    },
    {
      "metadata": {
        "id": "Mq9xEgbevAYj",
        "colab_type": "text"
      },
      "cell_type": "markdown",
      "source": [
        " We now test our model on the test data "
      ]
    },
    {
      "metadata": {
        "id": "zdE6lscFvAYk",
        "colab_type": "code",
        "colab": {
          "base_uri": "https://localhost:8080/",
          "height": 35
        },
        "outputId": "7987bb80-77aa-4d5a-cf9b-1fc92eb871f2"
      },
      "cell_type": "code",
      "source": [
        "BestRR.score(x_test[['horsepower', 'curb-weight', 'engine-size', 'highway-mpg']],y_test)"
      ],
      "execution_count": 67,
      "outputs": [
        {
          "output_type": "execute_result",
          "data": {
            "text/plain": [
              "0.8411649831036152"
            ]
          },
          "metadata": {
            "tags": []
          },
          "execution_count": 67
        }
      ]
    },
    {
      "metadata": {
        "id": "7R5VDK_ovAYn",
        "colab_type": "text"
      },
      "cell_type": "markdown",
      "source": [
        "<div class=\"alert alert-danger alertdanger\" style=\"margin-top: 20px\">\n",
        "<h1> Question  #6): </h1>\n",
        "Perform a grid search for the alpha parameter and the normalization parameter, then find the best values of the parameters\n",
        "\n",
        "</div>"
      ]
    },
    {
      "metadata": {
        "id": "ou36vpcLvAYn",
        "colab_type": "code",
        "colab": {
          "base_uri": "https://localhost:8080/",
          "height": 54
        },
        "outputId": "414f129f-8065-4aaa-9da7-8ec407b20867"
      },
      "cell_type": "code",
      "source": [
        "parameters2= [{'alpha': [0.001,0.1,1, 10, 100, 1000,10000,100000,100000],'normalize':[True,False]} ]\n",
        "Grid2 = GridSearchCV(Ridge(), parameters2,cv=4)\n",
        "Grid2.fit(x_data[['horsepower', 'curb-weight', 'engine-size', 'highway-mpg']],y_data)\n",
        "Grid2.best_estimator_"
      ],
      "execution_count": 69,
      "outputs": [
        {
          "output_type": "execute_result",
          "data": {
            "text/plain": [
              "Ridge(alpha=0.1, copy_X=True, fit_intercept=True, max_iter=None,\n",
              "   normalize=True, random_state=None, solver='auto', tol=0.001)"
            ]
          },
          "metadata": {
            "tags": []
          },
          "execution_count": 69
        }
      ]
    },
    {
      "metadata": {
        "id": "E7zuR2B2vAYp",
        "colab_type": "text"
      },
      "cell_type": "markdown",
      "source": [
        "# About the Authors:  \n",
        "\n",
        "This notebook written [Joseph Santarcangelo PhD]( https://www.linkedin.com/in/joseph-s-50398b136/)"
      ]
    },
    {
      "metadata": {
        "id": "SNqDO-vIvAYq",
        "colab_type": "text"
      },
      "cell_type": "markdown",
      "source": [
        "Copyright &copy; 2017 [cognitiveclass.ai](cognitiveclass.ai?utm_source=bducopyrightlink&utm_medium=dswb&utm_campaign=bdu). This notebook and its source code are released under the terms of the [MIT License](https://bigdatauniversity.com/mit-license/).\n"
      ]
    }
  ]
}